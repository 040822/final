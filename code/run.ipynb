{
 "cells": [
  {
   "cell_type": "code",
   "execution_count": 1,
   "id": "4b2756b3",
   "metadata": {},
   "outputs": [],
   "source": [
    "import subprocess\n",
    "import os\n",
    "\n",
    "result = subprocess.run('bash -c \"source /etc/network_turbo && env | grep proxy\"', shell=True, capture_output=True, text=True)\n",
    "output = result.stdout\n",
    "for line in output.splitlines():\n",
    "    if '=' in line:\n",
    "        var, value = line.split('=', 1)\n",
    "        os.environ[var] = value"
   ]
  },
  {
   "cell_type": "code",
   "execution_count": null,
   "id": "70b3cb67",
   "metadata": {},
   "outputs": [
    {
     "name": "stdout",
     "output_type": "stream",
     "text": [
      "设置成功\n",
      "注意：仅限于学术用途，不承诺稳定性保证\n"
     ]
    }
   ],
   "source": [
    "!source /etc/network_turbo"
   ]
  },
  {
   "cell_type": "code",
   "execution_count": 3,
   "id": "4659bb5b",
   "metadata": {},
   "outputs": [],
   "source": [
    "import os\n",
    "# We need Hugging Face の 镜像网站！\n",
    "os.environ[\"HF_ENDPOINT\"] = \"https://hf-mirror.com\""
   ]
  },
  {
   "cell_type": "code",
   "execution_count": 4,
   "id": "53327795",
   "metadata": {},
   "outputs": [],
   "source": [
    "#!nohup python train.py > log.txt"
   ]
  },
  {
   "cell_type": "code",
   "execution_count": 5,
   "id": "cb9f1982",
   "metadata": {},
   "outputs": [
    {
     "name": "stdout",
     "output_type": "stream",
     "text": [
      "nohup: ignoring input and redirecting stderr to stdout\n"
     ]
    }
   ],
   "source": [
    "!nohup python launcher.py train bilstm > log_bilstm.txt"
   ]
  }
 ],
 "metadata": {
  "kernelspec": {
   "display_name": "base",
   "language": "python",
   "name": "python3"
  },
  "language_info": {
   "codemirror_mode": {
    "name": "ipython",
    "version": 3
   },
   "file_extension": ".py",
   "mimetype": "text/x-python",
   "name": "python",
   "nbconvert_exporter": "python",
   "pygments_lexer": "ipython3",
   "version": "3.12.3"
  }
 },
 "nbformat": 4,
 "nbformat_minor": 5
}
