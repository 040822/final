{
 "cells": [
  {
   "cell_type": "code",
   "execution_count": 1,
   "id": "4b2756b3",
   "metadata": {},
   "outputs": [],
   "source": [
    "import subprocess\n",
    "import os\n",
    "\n",
    "result = subprocess.run('bash -c \"source /etc/network_turbo && env | grep proxy\"', shell=True, capture_output=True, text=True)\n",
    "output = result.stdout\n",
    "for line in output.splitlines():\n",
    "    if '=' in line:\n",
    "        var, value = line.split('=', 1)\n",
    "        os.environ[var] = value"
   ]
  },
  {
   "cell_type": "code",
   "execution_count": null,
   "id": "70b3cb67",
   "metadata": {},
   "outputs": [
    {
     "name": "stdout",
     "output_type": "stream",
     "text": [
      "设置成功\n",
      "注意：仅限于学术用途，不承诺稳定性保证\n"
     ]
    }
   ],
   "source": [
    "!source /etc/network_turbo"
   ]
  },
  {
   "cell_type": "code",
   "execution_count": 3,
   "id": "4659bb5b",
   "metadata": {},
   "outputs": [],
   "source": [
    "import os\n",
    "# We need Hugging Face の 镜像网站！\n",
    "os.environ[\"HF_ENDPOINT\"] = \"https://hf-mirror.com\""
   ]
  },
  {
   "cell_type": "code",
   "execution_count": 4,
   "id": "53327795",
   "metadata": {},
   "outputs": [],
   "source": [
    "#!nohup python train.py > log.txt"
   ]
  },
  {
   "cell_type": "code",
   "execution_count": 4,
   "id": "cb9f1982",
   "metadata": {},
   "outputs": [
    {
     "name": "stdout",
     "output_type": "stream",
     "text": [
      "=== 翻译模型功能测试 ===\n",
      "✓ 环境设置完成\n",
      "\n",
      "==================================================\n",
      "测试: 快速训练\n",
      "==================================================\n",
      "\n",
      "🚀 测试快速训练...\n",
      "📊 测试数据加载...\n",
      "✓ 训练集加载完成，耗时: 0.84秒\n",
      "✓ 数据样本: {'english': 'For greater sharpness, but with a slight increase in graininess, you can use a 1:1 dilution of this developer.', 'chinese': '为了更好的锐度，但是附带的会多一些颗粒度，可以使用这个显影剂的1：1稀释液。'}\n",
      "✓ 训练集大小: 4645290\n",
      "✓ 测试集大小: 516144\n",
      "✓ 数据预处理完成\n",
      "  训练样本: 10\n",
      "  测试样本: 5\n",
      "开始快速训练...\n",
      "  0%|                                                     | 0/5 [00:00<?, ?it/s]Passing a tuple of `past_key_values` is deprecated and will be removed in Transformers v4.48.0. You should pass an instance of `EncoderDecoderCache` instead, e.g. `past_key_values=EncoderDecoderCache.from_legacy_cache(past_key_values)`.\n",
      "{'loss': 4.6012, 'grad_norm': 14.089926719665527, 'learning_rate': 5e-05, 'epoch': 0.2}\n",
      "{'loss': 5.4706, 'grad_norm': 12.01165771484375, 'learning_rate': 4e-05, 'epoch': 0.4}\n",
      "{'loss': 4.3755, 'grad_norm': 12.640205383300781, 'learning_rate': 3e-05, 'epoch': 0.6}\n",
      "{'loss': 3.2275, 'grad_norm': 15.428106307983398, 'learning_rate': 2e-05, 'epoch': 0.8}\n",
      "{'loss': 4.1275, 'grad_norm': 15.197744369506836, 'learning_rate': 1e-05, 'epoch': 1.0}\n",
      "{'train_runtime': 3.9108, 'train_samples_per_second': 2.557, 'train_steps_per_second': 1.279, 'train_loss': 4.360460710525513, 'epoch': 1.0}\n",
      "100%|█████████████████████████████████████████████| 5/5 [00:03<00:00,  1.28it/s]\n",
      "✓ 快速训练完成\n",
      "✅ 快速训练 测试通过\n",
      "\n",
      "==================================================\n",
      "测试总结\n",
      "==================================================\n",
      "通过测试: 1/1\n",
      "✅ 快速训练\n",
      "\n",
      "🎉 所有测试通过！可以运行完整的训练脚本。\n"
     ]
    }
   ],
   "source": [
    "# 测试环境\n",
    "!python test_translation_models.py\n"
   ]
  },
  {
   "cell_type": "code",
   "execution_count": null,
   "id": "0030d14c",
   "metadata": {},
   "outputs": [
    {
     "name": "stdout",
     "output_type": "stream",
     "text": [
      "nohup: ignoring input and redirecting stderr to stdout\n"
     ]
    }
   ],
   "source": [
    "# 完整训练\n",
    "!nohup python translation_trainer.py > train_log.txt "
   ]
  },
  {
   "cell_type": "code",
   "execution_count": 15,
   "id": "ae69ffce",
   "metadata": {},
   "outputs": [
    {
     "name": "stdout",
     "output_type": "stream",
     "text": [
      "nohup: ignoring input and redirecting stderr to stdout\n",
      "^C\n"
     ]
    }
   ],
   "source": [
    "# 模型评估\n",
    "!nohup python translation_evaluator.py > eval_log.txt"
   ]
  }
 ],
 "metadata": {
  "kernelspec": {
   "display_name": "base",
   "language": "python",
   "name": "python3"
  },
  "language_info": {
   "codemirror_mode": {
    "name": "ipython",
    "version": 3
   },
   "file_extension": ".py",
   "mimetype": "text/x-python",
   "name": "python",
   "nbconvert_exporter": "python",
   "pygments_lexer": "ipython3",
   "version": "3.12.3"
  }
 },
 "nbformat": 4,
 "nbformat_minor": 5
}
